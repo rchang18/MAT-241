{
  "nbformat": 4,
  "nbformat_minor": 0,
  "metadata": {
    "colab": {
      "provenance": [],
      "authorship_tag": "ABX9TyOH27Fx1VFrRZBK10wVGqIO",
      "include_colab_link": true
    },
    "kernelspec": {
      "name": "python3",
      "display_name": "Python 3"
    },
    "language_info": {
      "name": "python"
    }
  },
  "cells": [
    {
      "cell_type": "markdown",
      "metadata": {
        "id": "view-in-github",
        "colab_type": "text"
      },
      "source": [
        "<a href=\"https://colab.research.google.com/github/rchang18/MAT-241/blob/main/Module_A_HW.ipynb\" target=\"_parent\"><img src=\"https://colab.research.google.com/assets/colab-badge.svg\" alt=\"Open In Colab\"/></a>"
      ]
    },
    {
      "cell_type": "markdown",
      "source": [
        "9.1 Base-N and Binary Numbers\n",
        "\n",
        "Decimal expansion is a great way to visualize the base-N of a system. For example expanding the number 342 could look something like this:"
      ],
      "metadata": {
        "id": "gTi43iawto8x"
      }
    },
    {
      "cell_type": "code",
      "source": [
        "342 == 3*10**2 + 4*10**1 + 2*10**0"
      ],
      "metadata": {
        "colab": {
          "base_uri": "https://localhost:8080/"
        },
        "id": "gNaqTlLZt4vW",
        "outputId": "eb3dd4ae-e2ab-4c3b-e83f-7c3edad7c109"
      },
      "execution_count": 3,
      "outputs": [
        {
          "output_type": "execute_result",
          "data": {
            "text/plain": [
              "True"
            ]
          },
          "metadata": {},
          "execution_count": 3
        }
      ]
    },
    {
      "cell_type": "markdown",
      "source": [
        "From this decimal expansion we are using a base 10 system. The base10 is the most common for most classes and teachings but any number of base-N systems exist.\n",
        "\n",
        "Another system we will be discussing in this course is base2 or binary. Where base10 has digits from 0 to 9, and uses 10 as the coefficient of power, base2 only uses 0 and 1, and uses 2 as the coeeficient of power. Using the example above but putting it into base2 would look something like this:"
      ],
      "metadata": {
        "id": "Ruu7q9tnuZHt"
      }
    },
    {
      "cell_type": "code",
      "source": [
        "342 == 3*10**2 + 4*10**1 + 2*10**0 == 1*2**8 + 0*2**7 + 1*2**6 + 0*2**5 + 1*2**4 + 0*2**3 + 1*2**2 + 1*2**1 + 0*2**0"
      ],
      "metadata": {
        "colab": {
          "base_uri": "https://localhost:8080/"
        },
        "id": "0qvy6DfSvFTY",
        "outputId": "ce233bc2-0091-4d9e-8dbd-7d581fb72b8a"
      },
      "execution_count": 5,
      "outputs": [
        {
          "output_type": "execute_result",
          "data": {
            "text/plain": [
              "True"
            ]
          },
          "metadata": {},
          "execution_count": 5
        }
      ]
    },
    {
      "cell_type": "markdown",
      "source": [
        "So in binary form, 342 (base10) would be written as 101010110.\n",
        "\n",
        "In binary, addition and multiplication still work the same as in base10. For example adding 20 and 5 together works like:  "
      ],
      "metadata": {
        "id": "upiUWV3uwVZc"
      }
    },
    {
      "cell_type": "code",
      "source": [
        "20 == 1*2**4 + 0*2**3 + 1*2**2 + 0*2**1 + 0*2**0 == 0b10100\n",
        "5 == 1*2**2 + 0*2**1 + 1*2**0 == 0b101\n",
        "0b10100 + 0b101 == 0b11001"
      ],
      "metadata": {
        "colab": {
          "base_uri": "https://localhost:8080/"
        },
        "id": "rMTUq53KyFW9",
        "outputId": "de09de0b-231a-48ff-a267-1756b35f1884"
      },
      "execution_count": 8,
      "outputs": [
        {
          "output_type": "execute_result",
          "data": {
            "text/plain": [
              "True"
            ]
          },
          "metadata": {},
          "execution_count": 8
        }
      ]
    },
    {
      "cell_type": "markdown",
      "source": [
        "Putting 20 (base10) into binary form is 10100 and 5 (base10) is 101. When adding them together there are some rules to follow. 0 plus 1 is equal to 1 and everything else is equal to 0. When adding 1 and 1, the sum is 0 but a 1 is carried over.\n",
        "\n",
        "Moving into multiplication of 5 and 20 (base10) looks like the following:"
      ],
      "metadata": {
        "id": "SlLpVvzX1pZo"
      }
    },
    {
      "cell_type": "code",
      "source": [
        "0b10100 * 0b101 == 0b1100100"
      ],
      "metadata": {
        "colab": {
          "base_uri": "https://localhost:8080/"
        },
        "id": "GRlLVs6s2Zn8",
        "outputId": "ed0c214b-8b3e-485d-e839-bcadbd58ce3a"
      },
      "execution_count": 9,
      "outputs": [
        {
          "output_type": "execute_result",
          "data": {
            "text/plain": [
              "True"
            ]
          },
          "metadata": {},
          "execution_count": 9
        }
      ]
    },
    {
      "cell_type": "markdown",
      "source": [
        "For multiplication of binary numbers, the rules of base10 multiplcation are followed, then the use of the rules mentioned above for adding the result all together.\n",
        "\n",
        "> Add blockquote\n",
        "\n"
      ],
      "metadata": {
        "id": "4u-Mn7SI2f0g"
      }
    },
    {
      "cell_type": "markdown",
      "source": [
        "9.2 Floating Point Numbers\n",
        "\n",
        "The number of bits (a single binary digit) any computer can calculate is fixed. This results in too little range and precision for engineering calculations. To solve this floating point numbers are used. Floats allocate the sign, the exponent, and the coefficient of the exponent.\n",
        "\n",
        "Python uses the IEEE754 which allocates 1 bit to the sign, 11 to the exponent, and 52 to the fraction for a total of 64. This follows the equation:\n",
        "n = (-1)^s * (2^(e-1023))*(1+f)\n",
        "\n",
        "For an example:"
      ],
      "metadata": {
        "id": "_-xpMn0Y3zfS"
      }
    },
    {
      "cell_type": "code",
      "source": [
        "12050 == (-1)**0*(2**(13))*(1+0.470947265625)"
      ],
      "metadata": {
        "colab": {
          "base_uri": "https://localhost:8080/"
        },
        "id": "8nhrUZfn5ham",
        "outputId": "b3355cf1-7c7e-4309-8131-63b932855225"
      },
      "execution_count": 14,
      "outputs": [
        {
          "output_type": "execute_result",
          "data": {
            "text/plain": [
              "True"
            ]
          },
          "metadata": {},
          "execution_count": 14
        }
      ]
    },
    {
      "cell_type": "markdown",
      "source": [
        "Using the equation for IEEE754 gives 12050 an exponent of 0 as the sign is positive, an exponent of 13 as that is the largest power of 2 smaller than 12050, and the fraction is equal to 12050 divided by 2 to the power of 13."
      ],
      "metadata": {
        "id": "y00t3d-L5mgV"
      }
    },
    {
      "cell_type": "markdown",
      "source": [
        "Numbers have constant spacing when using binary form meaning that it is impossible to have both precision and range. Using IEEE754 there is high precision at small numbers and low precision at high numbers. This is considered acceptable because the gap at higher numbers is still much smaller than the value itself."
      ],
      "metadata": {
        "id": "gWeTM0Un8MMY"
      }
    },
    {
      "cell_type": "markdown",
      "source": [
        "9.3 Round Off Errors\n",
        "\n",
        "The difference between the actual value and the approximation is called the round of error. This can occur when using binary or IEE754 as there is not perfect precison.\n",
        "\n",
        "There are 2 common types of round off error: representation error and error by floating point arithmetic. Error by floating point arithmetic usually looks something like this:"
      ],
      "metadata": {
        "id": "8gj322X88zsC"
      }
    },
    {
      "cell_type": "code",
      "source": [
        "0.08 - 0.078125 == 0.001875"
      ],
      "metadata": {
        "colab": {
          "base_uri": "https://localhost:8080/"
        },
        "id": "v55P-hD09uZD",
        "outputId": "e1e33ef9-51cc-4a32-fc04-651e7de772bc"
      },
      "execution_count": 20,
      "outputs": [
        {
          "output_type": "execute_result",
          "data": {
            "text/plain": [
              "False"
            ]
          },
          "metadata": {},
          "execution_count": 20
        }
      ]
    },
    {
      "cell_type": "code",
      "source": [
        "0.08 - 0.078125"
      ],
      "metadata": {
        "colab": {
          "base_uri": "https://localhost:8080/"
        },
        "id": "7E_omErs-pky",
        "outputId": "c1238029-7c3b-4cfb-a90c-4e314c9420de"
      },
      "execution_count": 21,
      "outputs": [
        {
          "output_type": "execute_result",
          "data": {
            "text/plain": [
              "0.0018750000000000017"
            ]
          },
          "metadata": {},
          "execution_count": 21
        }
      ]
    },
    {
      "cell_type": "markdown",
      "source": [
        "Looking at the subtraction of the two numbers above it can be seen that there is a very small error occuring due to the floating point approximation. And if this is used in further calculations the error will compound. For example:"
      ],
      "metadata": {
        "id": "CIUkLA4--hAz"
      }
    },
    {
      "cell_type": "code",
      "source": [
        "def add_and_subtract(iterations):\n",
        "    result = 0.08\n",
        "\n",
        "    for i in range(iterations):\n",
        "        result += 0.078125\n",
        "\n",
        "    for i in range(iterations):\n",
        "        result -= 0.078125\n",
        "    return result"
      ],
      "metadata": {
        "id": "D7RfsHWz_Gwi"
      },
      "execution_count": 35,
      "outputs": []
    },
    {
      "cell_type": "code",
      "source": [
        " add_and_subtract(100)"
      ],
      "metadata": {
        "colab": {
          "base_uri": "https://localhost:8080/"
        },
        "id": "l2cr35iHAGbL",
        "outputId": "d64082dc-e866-4583-c1ca-8ac538737276"
      },
      "execution_count": 36,
      "outputs": [
        {
          "output_type": "execute_result",
          "data": {
            "text/plain": [
              "0.08000000000000007"
            ]
          },
          "metadata": {},
          "execution_count": 36
        }
      ]
    },
    {
      "cell_type": "code",
      "source": [
        " add_and_subtract(1000)"
      ],
      "metadata": {
        "colab": {
          "base_uri": "https://localhost:8080/"
        },
        "id": "nJj_eAqE_j2W",
        "outputId": "7810b4c3-2414-447a-cd19-71226e8a100a"
      },
      "execution_count": 37,
      "outputs": [
        {
          "output_type": "execute_result",
          "data": {
            "text/plain": [
              "0.0799999999999983"
            ]
          },
          "metadata": {},
          "execution_count": 37
        }
      ]
    },
    {
      "cell_type": "code",
      "source": [
        " add_and_subtract(100000)"
      ],
      "metadata": {
        "colab": {
          "base_uri": "https://localhost:8080/"
        },
        "id": "rjM1zWIfAIxj",
        "outputId": "4f0def2f-3e41-4110-fcc2-dde9e0e782b3"
      },
      "execution_count": 38,
      "outputs": [
        {
          "output_type": "execute_result",
          "data": {
            "text/plain": [
              "0.07999999999992724"
            ]
          },
          "metadata": {},
          "execution_count": 38
        }
      ]
    },
    {
      "cell_type": "markdown",
      "source": [
        "By iteratively adding and subtracting 0.078125, you would assume that the error would be 0 since it's the same number being added and removed, but as we can see that is not the case and as the iterations increase so to does the error."
      ],
      "metadata": {
        "id": "Vwg4kvXT_mgM"
      }
    }
  ]
}