{
  "nbformat": 4,
  "nbformat_minor": 0,
  "metadata": {
    "colab": {
      "provenance": [],
      "authorship_tag": "ABX9TyNtU3HFDr1XaFP7tu/ULUsV",
      "include_colab_link": true
    },
    "kernelspec": {
      "name": "python3",
      "display_name": "Python 3"
    },
    "language_info": {
      "name": "python"
    }
  },
  "cells": [
    {
      "cell_type": "markdown",
      "metadata": {
        "id": "view-in-github",
        "colab_type": "text"
      },
      "source": [
        "<a href=\"https://colab.research.google.com/github/rchang18/MAT-241/blob/main/Module_C.ipynb\" target=\"_parent\"><img src=\"https://colab.research.google.com/assets/colab-badge.svg\" alt=\"Open In Colab\"/></a>"
      ]
    },
    {
      "cell_type": "markdown",
      "source": [
        "# 19.1 Root Finding Problem Statement\n",
        "\n",
        "The root of a function is when F(x) = 0. Finding the exact roots of a function can be a bit complex depending on the simplicity of the function itself.\n",
        "\n",
        "For example finding the root of the equation F(x) = e^(3x) - cos(2x) can be solved analytically using python."
      ],
      "metadata": {
        "id": "mWPnUAAdlfhf"
      }
    },
    {
      "cell_type": "code",
      "source": [
        "import numpy as np\n",
        "from scipy import optimize\n",
        "import math\n",
        "\n",
        "f = lambda x: math.exp(3*x) - np.cos(2*x)\n",
        "x = optimize.fsolve(f, -2)\n",
        "print(\"x =\", x)\n",
        "\n",
        "# Verify the solution is a root\n",
        "result = f(x)"
      ],
      "metadata": {
        "colab": {
          "base_uri": "https://localhost:8080/"
        },
        "id": "BqwrKV0fmiDu",
        "outputId": "c0db850c-5832-46eb-8b74-7c2a6586af14"
      },
      "execution_count": null,
      "outputs": [
        {
          "output_type": "stream",
          "name": "stdout",
          "text": [
            "x = [-2.35661967]\n"
          ]
        },
        {
          "output_type": "stream",
          "name": "stderr",
          "text": [
            "<ipython-input-5-9c4657e83176>:5: DeprecationWarning: Conversion of an array with ndim > 0 to a scalar is deprecated, and will error in future. Ensure you extract a single element from your array before performing this operation. (Deprecated NumPy 1.25.)\n",
            "  f = lambda x: math.exp(3*x) - np.cos(2*x)\n"
          ]
        }
      ]
    },
    {
      "cell_type": "markdown",
      "source": [
        "# 19.2 Tolerance\n",
        "\n",
        "Error is the amount of deviation from the expected answer. Tolerance is the amount of allowable error. For most engineering applications tolerance is defined so that the error is an acceptable level for safety.\n",
        "\n",
        "Error can be measured in different way such as the absolute value or difference from one iteration to the next."
      ],
      "metadata": {
        "id": "ok2roNGcllTI"
      }
    },
    {
      "cell_type": "markdown",
      "source": [
        "# 19.3 Bisection Method\n",
        "\n",
        "Intermediate value thereom states that if there is a continuous function between a and b and that a and b have opposite signs then there must be a value c where F(c) = 0. The bisection method uses this thereom in order to find roots such that the midpoint is m = (a+b)/2. If this calculation is greater than zero then the root is assumed to be in the (m,b) interval. If that calculation is less than zero then the root is assumed to be in the (a,m) interval.\n",
        "\n",
        "Using python to solve for the root of F(x) = x^3 + 7."
      ],
      "metadata": {
        "id": "U9w5qkDVloCc"
      }
    },
    {
      "cell_type": "code",
      "source": [
        "import numpy as np\n",
        "\n",
        "def my_bisection(f, a, b, tol):\n",
        "    if np.sign(f(a)) == np.sign(f(b)):\n",
        "        raise Exception(\n",
        "         \"The scalars a and b do not bound a root\")\n",
        "\n",
        "    # get midpoint\n",
        "    m = (a + b)/2\n",
        "\n",
        "    if np.abs(f(m)) < tol:\n",
        "        return m\n",
        "    elif np.sign(f(a)) == np.sign(f(m)):\n",
        "        return my_bisection(f, m, b, tol)\n",
        "    elif np.sign(f(b)) == np.sign(f(m)):\n",
        "        return my_bisection(f, a, m, tol)\n",
        "f = lambda x: x**3 + 7\n",
        "\n",
        "r1 = my_bisection(f, -4, 0, 0.01)\n",
        "print(\"r1 =\", r1)\n",
        "r01 = my_bisection(f, -4, 0, 0.01)\n",
        "print(\"r01 =\", r01)\n",
        "\n",
        "print(\"f(r1) =\", f(r1))\n",
        "print(\"f(r01) =\", f(r01))"
      ],
      "metadata": {
        "colab": {
          "base_uri": "https://localhost:8080/"
        },
        "id": "BLVuAERAzmY3",
        "outputId": "83c0ccb8-4f2b-4808-ec13-33a0349b6901"
      },
      "execution_count": 7,
      "outputs": [
        {
          "output_type": "stream",
          "name": "stdout",
          "text": [
            "r1 = -1.912109375\n",
            "r01 = -1.912109375\n",
            "f(r1) = 0.009017862379550934\n",
            "f(r01) = 0.009017862379550934\n"
          ]
        }
      ]
    },
    {
      "cell_type": "markdown",
      "source": [
        "When using the bounds of (-4, 0) and a tolerance of 0.01, the root of the function is found to be around -1.912. If the bounds are not set correctly say at (0, 2) the function would return that there is no root to be found in that interval."
      ],
      "metadata": {
        "id": "GFUtRGSF0qU-"
      }
    },
    {
      "cell_type": "code",
      "source": [
        "f = lambda x: x**3 + 7\n",
        "\n",
        "r1 = my_bisection(f, 0, 0, 0.01)\n",
        "print(\"r1 =\", r1)\n",
        "r01 = my_bisection(f, 0, 2, 0.01)\n",
        "print(\"r01 =\", r01)\n",
        "\n",
        "print(\"f(r1) =\", f(r1))\n",
        "print(\"f(r01) =\", f(r01))"
      ],
      "metadata": {
        "colab": {
          "base_uri": "https://localhost:8080/",
          "height": 332
        },
        "id": "gfcIF4Kr1JCb",
        "outputId": "22770794-2b28-4c6d-a36a-4abca6ad8f31"
      },
      "execution_count": 8,
      "outputs": [
        {
          "output_type": "error",
          "ename": "Exception",
          "evalue": "The scalars a and b do not bound a root",
          "traceback": [
            "\u001b[0;31m---------------------------------------------------------------------------\u001b[0m",
            "\u001b[0;31mException\u001b[0m                                 Traceback (most recent call last)",
            "\u001b[0;32m<ipython-input-8-fda5f94e1071>\u001b[0m in \u001b[0;36m<cell line: 0>\u001b[0;34m()\u001b[0m\n\u001b[1;32m      1\u001b[0m \u001b[0mf\u001b[0m \u001b[0;34m=\u001b[0m \u001b[0;32mlambda\u001b[0m \u001b[0mx\u001b[0m\u001b[0;34m:\u001b[0m \u001b[0mx\u001b[0m\u001b[0;34m**\u001b[0m\u001b[0;36m3\u001b[0m \u001b[0;34m+\u001b[0m \u001b[0;36m7\u001b[0m\u001b[0;34m\u001b[0m\u001b[0;34m\u001b[0m\u001b[0m\n\u001b[1;32m      2\u001b[0m \u001b[0;34m\u001b[0m\u001b[0m\n\u001b[0;32m----> 3\u001b[0;31m \u001b[0mr1\u001b[0m \u001b[0;34m=\u001b[0m \u001b[0mmy_bisection\u001b[0m\u001b[0;34m(\u001b[0m\u001b[0mf\u001b[0m\u001b[0;34m,\u001b[0m \u001b[0;36m0\u001b[0m\u001b[0;34m,\u001b[0m \u001b[0;36m0\u001b[0m\u001b[0;34m,\u001b[0m \u001b[0;36m0.01\u001b[0m\u001b[0;34m)\u001b[0m\u001b[0;34m\u001b[0m\u001b[0;34m\u001b[0m\u001b[0m\n\u001b[0m\u001b[1;32m      4\u001b[0m \u001b[0mprint\u001b[0m\u001b[0;34m(\u001b[0m\u001b[0;34m\"r1 =\"\u001b[0m\u001b[0;34m,\u001b[0m \u001b[0mr1\u001b[0m\u001b[0;34m)\u001b[0m\u001b[0;34m\u001b[0m\u001b[0;34m\u001b[0m\u001b[0m\n\u001b[1;32m      5\u001b[0m \u001b[0mr01\u001b[0m \u001b[0;34m=\u001b[0m \u001b[0mmy_bisection\u001b[0m\u001b[0;34m(\u001b[0m\u001b[0mf\u001b[0m\u001b[0;34m,\u001b[0m \u001b[0;36m0\u001b[0m\u001b[0;34m,\u001b[0m \u001b[0;36m2\u001b[0m\u001b[0;34m,\u001b[0m \u001b[0;36m0.01\u001b[0m\u001b[0;34m)\u001b[0m\u001b[0;34m\u001b[0m\u001b[0;34m\u001b[0m\u001b[0m\n",
            "\u001b[0;32m<ipython-input-7-c4baba151faf>\u001b[0m in \u001b[0;36mmy_bisection\u001b[0;34m(f, a, b, tol)\u001b[0m\n\u001b[1;32m      3\u001b[0m \u001b[0;32mdef\u001b[0m \u001b[0mmy_bisection\u001b[0m\u001b[0;34m(\u001b[0m\u001b[0mf\u001b[0m\u001b[0;34m,\u001b[0m \u001b[0ma\u001b[0m\u001b[0;34m,\u001b[0m \u001b[0mb\u001b[0m\u001b[0;34m,\u001b[0m \u001b[0mtol\u001b[0m\u001b[0;34m)\u001b[0m\u001b[0;34m:\u001b[0m\u001b[0;34m\u001b[0m\u001b[0;34m\u001b[0m\u001b[0m\n\u001b[1;32m      4\u001b[0m     \u001b[0;32mif\u001b[0m \u001b[0mnp\u001b[0m\u001b[0;34m.\u001b[0m\u001b[0msign\u001b[0m\u001b[0;34m(\u001b[0m\u001b[0mf\u001b[0m\u001b[0;34m(\u001b[0m\u001b[0ma\u001b[0m\u001b[0;34m)\u001b[0m\u001b[0;34m)\u001b[0m \u001b[0;34m==\u001b[0m \u001b[0mnp\u001b[0m\u001b[0;34m.\u001b[0m\u001b[0msign\u001b[0m\u001b[0;34m(\u001b[0m\u001b[0mf\u001b[0m\u001b[0;34m(\u001b[0m\u001b[0mb\u001b[0m\u001b[0;34m)\u001b[0m\u001b[0;34m)\u001b[0m\u001b[0;34m:\u001b[0m\u001b[0;34m\u001b[0m\u001b[0;34m\u001b[0m\u001b[0m\n\u001b[0;32m----> 5\u001b[0;31m         raise Exception(\n\u001b[0m\u001b[1;32m      6\u001b[0m          \"The scalars a and b do not bound a root\")\n\u001b[1;32m      7\u001b[0m \u001b[0;34m\u001b[0m\u001b[0m\n",
            "\u001b[0;31mException\u001b[0m: The scalars a and b do not bound a root"
          ]
        }
      ]
    },
    {
      "cell_type": "markdown",
      "source": [
        "# 19.4 Newton-Raphson Method\n",
        "\n",
        "Given a smooth and continuous function Newton-Raphson method uses linear approximation around an initial guess of the root value to move closer to the true value. The equation looks like:\n",
        "\n",
        "![image.png](data:image/png;base64,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)\n"
      ],
      "metadata": {
        "id": "iHETL0dklrEW"
      }
    },
    {
      "cell_type": "markdown",
      "source": [
        "Where X(i-1) is the previous guess and X(i) is the improved value. We can use python to find the root using this method. Let's use F(x) = x^3 + 7."
      ],
      "metadata": {
        "id": "vSS7S4Wj17Cs"
      }
    },
    {
      "cell_type": "code",
      "source": [
        "def my_newton(f, df, x0, tol):\n",
        "    if abs(f(x0)) < tol:\n",
        "        return x0\n",
        "    else:\n",
        "        return my_newton(f, df, x0 - f(x0)/df(x0), tol)\n",
        "f = lambda x: x**3 + 7\n",
        "f_prime = lambda x: 3*x**2\n",
        "estimate = my_newton(f, f_prime, -4, 0.01)\n",
        "print(\"estimate =\", estimate)"
      ],
      "metadata": {
        "colab": {
          "base_uri": "https://localhost:8080/"
        },
        "id": "qkNRZTsL2NJY",
        "outputId": "1fa69d6d-ccc0-45d8-a0dc-1b590ed97cf4"
      },
      "execution_count": 11,
      "outputs": [
        {
          "output_type": "stream",
          "name": "stdout",
          "text": [
            "estimate = -1.913369391148744\n"
          ]
        }
      ]
    },
    {
      "cell_type": "markdown",
      "source": [
        "Using the same tolerance as the Bisection method and a starting guess of -4, the Newton-Raphson method returned a root of -1.913 compared to -1.912 from Bisection method."
      ],
      "metadata": {
        "id": "kq2-0d5n21S-"
      }
    },
    {
      "cell_type": "markdown",
      "source": [
        "#19.5 Root Finding in Python\n",
        "\n",
        "Instead of coding out different methods for root finding, python has a root finding function f_solve. For the function F(x) = x^3 + 7 it would look something like this:"
      ],
      "metadata": {
        "id": "p67PDO1Xluyv"
      }
    },
    {
      "cell_type": "code",
      "source": [
        "from scipy.optimize import fsolve\n",
        "f= lambda x: x**3 + 7\n",
        "fsolve(f,[-4])"
      ],
      "metadata": {
        "colab": {
          "base_uri": "https://localhost:8080/"
        },
        "id": "EmtJxIun3nEf",
        "outputId": "337dbcd6-3ab7-4267-ed09-c409eae0936a"
      },
      "execution_count": 17,
      "outputs": [
        {
          "output_type": "execute_result",
          "data": {
            "text/plain": [
              "array([-1.91293118])"
            ]
          },
          "metadata": {},
          "execution_count": 17
        }
      ]
    }
  ]
}