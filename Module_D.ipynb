{
  "cells": [
    {
      "cell_type": "markdown",
      "metadata": {
        "id": "view-in-github",
        "colab_type": "text"
      },
      "source": [
        "<a href=\"https://colab.research.google.com/github/rchang18/MAT-241/blob/main/Module_D.ipynb\" target=\"_parent\"><img src=\"https://colab.research.google.com/assets/colab-badge.svg\" alt=\"Open In Colab\"/></a>"
      ]
    },
    {
      "cell_type": "markdown",
      "metadata": {
        "id": "lCvrwqwU_HSo"
      },
      "source": [
        "# 14.1 Basics of Linear Algebra\n",
        "In linear algebra something called a set is often used. A set is just a collection of objects commonly denoted by using {}. This might seem random but there are a lot of natural sets we use all the time such as whole numbers, integers, or irrational numbers.\n",
        "\n",
        "A vector is a set. They can be column or row vectors based on their orientation. A commonly used trait of a vector is it's norm; the length of the vector.\n",
        "\n",
        "Vectors can be used to do addition and multiplcation to find things like an angle between two vectors or if two sets are linearly independent.\n",
        "\n",
        "Using two vectors let's do an example."
      ]
    },
    {
      "cell_type": "code",
      "execution_count": null,
      "metadata": {
        "colab": {
          "base_uri": "https://localhost:8080/"
        },
        "id": "M0l7Lm_bA03O",
        "outputId": "d7fc9006-2a68-4c5d-b059-7756ba79ed44"
      },
      "outputs": [
        {
          "name": "stdout",
          "output_type": "stream",
          "text": [
            "A * B is: [[-2]\n",
            " [42]\n",
            " [ 8]\n",
            " [72]]\n",
            "The angle between A & B is: [[0.34209669]]\n"
          ]
        }
      ],
      "source": [
        "import numpy as np\n",
        "from numpy.linalg import norm\n",
        "from numpy import arccos, dot\n",
        "A = np.array([[-2],\n",
        "              [7],\n",
        "              [4],\n",
        "              [8]])\n",
        "B = np.array([[1],\n",
        "              [6],\n",
        "              [2],\n",
        "              [9]])\n",
        "C = A*B\n",
        "print('A * B is:',C)\n",
        "\n",
        "theta = \\\n",
        "    arccos(dot(A.T, B)/(norm(A.T)*norm(B.T)))\n",
        "print('The angle between A & B is:',theta)"
      ]
    },
    {
      "cell_type": "markdown",
      "metadata": {
        "id": "-uRSvaGRDSZJ"
      },
      "source": [
        "A matrix is like a table composed of vectors commonly denoted by MxN, where M is the number of rows and N is the number of columns. Matrix multiplication when done between an AxB and BxD matrices results in an AxD matrix.\n",
        "\n",
        "The following is what matrix multiplication looks like in python. If we start with a 4x1 and a 1x4 we end with a 4x4."
      ]
    },
    {
      "cell_type": "code",
      "execution_count": null,
      "metadata": {
        "colab": {
          "base_uri": "https://localhost:8080/"
        },
        "id": "hoWT8p7vEIAp",
        "outputId": "8f37f238-55a9-402e-cc26-b2d12fba2b8a"
      },
      "outputs": [
        {
          "name": "stdout",
          "output_type": "stream",
          "text": [
            "[[ -2 -12  -4 -18]\n",
            " [  7  42  14  63]\n",
            " [  4  24   8  36]\n",
            " [  8  48  16  72]]\n"
          ]
        }
      ],
      "source": [
        "A = np.array([[-2],\n",
        "              [7],\n",
        "              [4],\n",
        "              [8]])\n",
        "B = np.array([[1],\n",
        "              [6],\n",
        "              [2],\n",
        "              [9]])\n",
        "print(np.dot(A, B.T))\n"
      ]
    },
    {
      "cell_type": "markdown",
      "metadata": {
        "id": "x1IBzpn0EgZE"
      },
      "source": [
        "For matrices an important characteristic is their determinant. Using the determinant we can find if a matrix is invertible. This can only be found if they are a square matrix. For a 2x2 it looks like this:\n",
        "\n",
        "\n",
        "![image.png](data:image/png;base64,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)"
      ]
    },
    {
      "cell_type": "code",
      "execution_count": null,
      "metadata": {
        "colab": {
          "base_uri": "https://localhost:8080/"
        },
        "id": "jdf8Gz1JFEc2",
        "outputId": "6c3b6639-3660-4298-bdee-7a224d141a04"
      },
      "outputs": [
        {
          "name": "stdout",
          "output_type": "stream",
          "text": [
            "M:\n",
            " [[0 4 6]\n",
            " [3 1 2]\n",
            " [1 7 8]]\n",
            "Determinant: 32.0\n"
          ]
        }
      ],
      "source": [
        "from numpy.linalg import det\n",
        "\n",
        "M = np.array([[0,4,6],\n",
        "             [3,1,2],\n",
        "             [1,7,8],])\n",
        "print('M:\\n', M)\n",
        "\n",
        "print('Determinant: %.1f'%det(M))"
      ]
    },
    {
      "cell_type": "markdown",
      "metadata": {
        "id": "uuY-9GyzF_eF"
      },
      "source": [
        "Since the 3x3 matrix has a non zero determinant it is invertible.\n"
      ]
    },
    {
      "cell_type": "code",
      "execution_count": null,
      "metadata": {
        "colab": {
          "background_save": true
        },
        "id": "7bviwSOGGAH_",
        "outputId": "8258754c-0ddf-4ef0-95eb-a7a44d4f18f7"
      },
      "outputs": [
        {
          "name": "stdout",
          "output_type": "stream",
          "text": [
            "Inv M:\n",
            " [[-0.1875  0.3125  0.0625]\n",
            " [-0.6875 -0.1875  0.5625]\n",
            " [ 0.625   0.125  -0.375 ]]\n",
            "det(p):\n",
            " 0.0\n"
          ]
        }
      ],
      "source": []
    },
    {
      "cell_type": "markdown",
      "metadata": {
        "id": "B7QmXqi9Evh7"
      },
      "source": [
        "\n",
        "An identity matrix has ones on the diagonal and zeros everywhere else. It is used like how 1 is used in multiplication."
      ]
    },
    {
      "cell_type": "code",
      "execution_count": null,
      "metadata": {
        "colab": {
          "base_uri": "https://localhost:8080/"
        },
        "id": "7ahJ6tSeFDF3",
        "outputId": "c584ad2c-b9a2-4e8e-b8a0-a005a69c3977"
      },
      "outputs": [
        {
          "name": "stdout",
          "output_type": "stream",
          "text": [
            "I:\n",
            " [[1. 0. 0.]\n",
            " [0. 1. 0.]\n",
            " [0. 0. 1.]]\n"
          ]
        }
      ],
      "source": [
        "I = np.eye(3)\n",
        "print('I:\\n', I)"
      ]
    },
    {
      "cell_type": "markdown",
      "source": [
        "#14.2 Linear Transformations\n",
        "A linear transformation is when F is a function of vectors x and y and scalars a and b such that:\n",
        "![image.png](data:image/png;base64,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)"
      ],
      "metadata": {
        "id": "5kJiYD8wGu7e"
      }
    },
    {
      "cell_type": "markdown",
      "source": [
        "If there is an MxN matrix, A, there are two important subspaces. The domain of A is a subspace of N and the range of A is a subspace of M. The domain is all of the vectors that can be multiplied by A on the right. The range is all the vectors y where y = Ax."
      ],
      "metadata": {
        "id": "8QM90A8YHNnd"
      }
    },
    {
      "cell_type": "markdown",
      "source": [
        "#Systems of Linear Equations\n",
        "A linear equation is one where any sum of variables and their scalars are equal to one scalar. An example of this would be 3A + 7B + C = 5.\n",
        "\n",
        "A system of linear equations is a set of linear equations that have the same variables. An example would be:\n",
        "3A + 7B + C = 5\n",
        "A + 2B + 6C = 2\n",
        "\n",
        "If we put this into matrix form it would look like:\n",
        "\n",
        "[ 3   7   1 ] [A] = [Y1]\n",
        "\n",
        "[ 1   2   6 ] [B] = [Y2]"
      ],
      "metadata": {
        "id": "5dUGix8vIR-i"
      }
    }
  ],
  "metadata": {
    "colab": {
      "provenance": [],
      "authorship_tag": "ABX9TyNoS9eWEc38mYPAr9y151Lf",
      "include_colab_link": true
    },
    "kernelspec": {
      "display_name": "Python 3",
      "name": "python3"
    },
    "language_info": {
      "name": "python"
    }
  },
  "nbformat": 4,
  "nbformat_minor": 0
}