{
  "cells": [
    {
      "cell_type": "markdown",
      "metadata": {
        "id": "view-in-github",
        "colab_type": "text"
      },
      "source": [
        "<a href=\"https://colab.research.google.com/github/rchang18/MAT-241/blob/main/Module_D_(This_One!).ipynb\" target=\"_parent\"><img src=\"https://colab.research.google.com/assets/colab-badge.svg\" alt=\"Open In Colab\"/></a>"
      ]
    },
    {
      "cell_type": "markdown",
      "metadata": {
        "id": "lCvrwqwU_HSo"
      },
      "source": [
        "# 14.1 Basics of Linear Algebra\n",
        "In linear algebra something called a set is often used. A set is just a collection of objects commonly denoted by using {}. This might seem random but there are a lot of natural sets we use all the time such as whole numbers, integers, or irrational numbers.\n",
        "\n",
        "A vector is a set. They can be column or row vectors based on their orientation. A commonly used trait of a vector is it's norm; the length of the vector.\n",
        "\n",
        "Vectors can be used to do addition and multiplcation to find things like an angle between two vectors or if two sets are linearly independent.\n",
        "\n",
        "Using two vectors let's do an example."
      ]
    },
    {
      "cell_type": "code",
      "execution_count": null,
      "metadata": {
        "colab": {
          "base_uri": "https://localhost:8080/"
        },
        "id": "M0l7Lm_bA03O",
        "outputId": "d7fc9006-2a68-4c5d-b059-7756ba79ed44"
      },
      "outputs": [
        {
          "name": "stdout",
          "output_type": "stream",
          "text": [
            "A * B is: [[-2]\n",
            " [42]\n",
            " [ 8]\n",
            " [72]]\n",
            "The angle between A & B is: [[0.34209669]]\n"
          ]
        }
      ],
      "source": [
        "import numpy as np\n",
        "from numpy.linalg import norm\n",
        "from numpy import arccos, dot\n",
        "A = np.array([[-2],\n",
        "              [7],\n",
        "              [4],\n",
        "              [8]])\n",
        "B = np.array([[1],\n",
        "              [6],\n",
        "              [2],\n",
        "              [9]])\n",
        "C = A*B\n",
        "print('A * B is:',C)\n",
        "\n",
        "theta = \\\n",
        "    arccos(dot(A.T, B)/(norm(A.T)*norm(B.T)))\n",
        "print('The angle between A & B is:',theta)"
      ]
    },
    {
      "cell_type": "markdown",
      "metadata": {
        "id": "-uRSvaGRDSZJ"
      },
      "source": [
        "A matrix is like a table composed of vectors commonly denoted by MxN, where M is the number of rows and N is the number of columns. Matrix multiplication when done between an AxB and BxD matrices results in an AxD matrix.\n",
        "\n",
        "The following is what matrix multiplication looks like in python. If we start with a 4x1 and a 1x4 we end with a 4x4."
      ]
    },
    {
      "cell_type": "code",
      "execution_count": null,
      "metadata": {
        "colab": {
          "base_uri": "https://localhost:8080/"
        },
        "id": "hoWT8p7vEIAp",
        "outputId": "8f37f238-55a9-402e-cc26-b2d12fba2b8a"
      },
      "outputs": [
        {
          "name": "stdout",
          "output_type": "stream",
          "text": [
            "[[ -2 -12  -4 -18]\n",
            " [  7  42  14  63]\n",
            " [  4  24   8  36]\n",
            " [  8  48  16  72]]\n"
          ]
        }
      ],
      "source": [
        "A = np.array([[-2],\n",
        "              [7],\n",
        "              [4],\n",
        "              [8]])\n",
        "B = np.array([[1],\n",
        "              [6],\n",
        "              [2],\n",
        "              [9]])\n",
        "print(np.dot(A, B.T))\n"
      ]
    },
    {
      "cell_type": "markdown",
      "metadata": {
        "id": "x1IBzpn0EgZE"
      },
      "source": [
        "For matrices an important characteristic is their determinant. Using the determinant we can find if a matrix is invertible. This can only be found if they are a square matrix. For a 2x2 it looks like this:\n",
        "\n",
        "\n",
        "![image.png](data:image/png;base64,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)"
      ]
    },
    {
      "cell_type": "code",
      "execution_count": null,
      "metadata": {
        "colab": {
          "base_uri": "https://localhost:8080/"
        },
        "id": "jdf8Gz1JFEc2",
        "outputId": "6c3b6639-3660-4298-bdee-7a224d141a04"
      },
      "outputs": [
        {
          "name": "stdout",
          "output_type": "stream",
          "text": [
            "M:\n",
            " [[0 4 6]\n",
            " [3 1 2]\n",
            " [1 7 8]]\n",
            "Determinant: 32.0\n"
          ]
        }
      ],
      "source": [
        "from numpy.linalg import det\n",
        "\n",
        "M = np.array([[0,4,6],\n",
        "             [3,1,2],\n",
        "             [1,7,8],])\n",
        "print('M:\\n', M)\n",
        "\n",
        "print('Determinant: %.1f'%det(M))"
      ]
    },
    {
      "cell_type": "markdown",
      "metadata": {
        "id": "uuY-9GyzF_eF"
      },
      "source": [
        "Since the 3x3 matrix has a non zero determinant it is invertible.\n"
      ]
    },
    {
      "cell_type": "code",
      "execution_count": null,
      "metadata": {
        "colab": {
          "background_save": true
        },
        "id": "7bviwSOGGAH_",
        "outputId": "8258754c-0ddf-4ef0-95eb-a7a44d4f18f7"
      },
      "outputs": [
        {
          "name": "stdout",
          "output_type": "stream",
          "text": [
            "Inv M:\n",
            " [[-0.1875  0.3125  0.0625]\n",
            " [-0.6875 -0.1875  0.5625]\n",
            " [ 0.625   0.125  -0.375 ]]\n",
            "det(p):\n",
            " 0.0\n"
          ]
        }
      ],
      "source": []
    },
    {
      "cell_type": "markdown",
      "metadata": {
        "id": "B7QmXqi9Evh7"
      },
      "source": [
        "\n",
        "An identity matrix has ones on the diagonal and zeros everywhere else. It is used like how 1 is used in multiplication."
      ]
    },
    {
      "cell_type": "code",
      "execution_count": null,
      "metadata": {
        "colab": {
          "base_uri": "https://localhost:8080/"
        },
        "id": "7ahJ6tSeFDF3",
        "outputId": "c584ad2c-b9a2-4e8e-b8a0-a005a69c3977"
      },
      "outputs": [
        {
          "name": "stdout",
          "output_type": "stream",
          "text": [
            "I:\n",
            " [[1. 0. 0.]\n",
            " [0. 1. 0.]\n",
            " [0. 0. 1.]]\n"
          ]
        }
      ],
      "source": [
        "I = np.eye(3)\n",
        "print('I:\\n', I)"
      ]
    },
    {
      "cell_type": "markdown",
      "source": [
        "#14.2 Linear Transformations\n",
        "A linear transformation is when F is a function of vectors x and y and scalars a and b such that:\n",
        "![image.png](data:image/png;base64,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)"
      ],
      "metadata": {
        "id": "5kJiYD8wGu7e"
      }
    },
    {
      "cell_type": "markdown",
      "source": [
        "If there is an MxN matrix, A, there are two important subspaces. The domain of A is a subspace of N and the range of A is a subspace of M. The domain is all of the vectors that can be multiplied by A on the right. The range is all the vectors y where y = Ax."
      ],
      "metadata": {
        "id": "8QM90A8YHNnd"
      }
    },
    {
      "cell_type": "markdown",
      "source": [
        "#14.3 Systems of Linear Equations\n",
        "A linear equation is one where any sum of variables and their scalars are equal to one scalar. An example of this would be 3A + 7B + C = 5.\n",
        "\n",
        "A system of linear equations is a set of linear equations that have the same variables. An example would be:\n",
        "3A + 7B + C = 5\n",
        "A + 2B + 6C = 2\n",
        "\n",
        "If we put this into matrix form it would look like:\n",
        "\n",
        "[ 3   7   1 ] [A] = [Y1]\n",
        "\n",
        "[ 1   2   6 ] [B] = [Y2]"
      ],
      "metadata": {
        "id": "5dUGix8vIR-i"
      }
    },
    {
      "cell_type": "markdown",
      "source": [
        "#15.1 Eigenvalues\n",
        "\n",
        "Assuming we have an NxN matrix A, we can have a linear transformation:\n",
        "\n",
        "![image.png](data:image/png;base64,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)"
      ],
      "metadata": {
        "id": "aArEyRoQKxnc"
      }
    },
    {
      "cell_type": "markdown",
      "source": [
        "Where x is an Nx1 column vector that is non-zero and lambda is a scalar. Lambda in this equation is an eigenvalue of A and x is the eigenvector.\n",
        "\n",
        "To solve this equation for the eigenvalues we use:\n",
        "\n",
        "![image.png](data:image/png;base64,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)"
      ],
      "metadata": {
        "id": "WhhSazzYLO2D"
      }
    },
    {
      "cell_type": "markdown",
      "source": [
        "Where I is the identity matrix. Let's do an example.\n",
        "\n",
        "If we have a 2x2 matrix: [[0,2],[2,3]] then the characteristic equation gives:\n",
        "\n",
        "![image.png](data:image/png;base64,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)"
      ],
      "metadata": {
        "id": "CoGDO2siLwkC"
      }
    },
    {
      "cell_type": "markdown",
      "source": [
        "If we take the determinant we get:\n",
        "\n",
        "\n",
        "![image.png](data:image/png;base64,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)"
      ],
      "metadata": {
        "id": "BZFud3g4MAxg"
      }
    },
    {
      "cell_type": "markdown",
      "source": [
        "This results in 2 eigenvalues. One being 4 and the other being -1."
      ],
      "metadata": {
        "id": "3BAdS0X5MLJh"
      }
    },
    {
      "cell_type": "markdown",
      "source": [
        "#16.1 LEast Square Regression\n",
        "Least squares method finds an approximate model for a function by minimizing the total square error."
      ],
      "metadata": {
        "id": "uHTPwlSyMe7A"
      }
    }
  ],
  "metadata": {
    "colab": {
      "provenance": [],
      "authorship_tag": "ABX9TyMN/ltgLcXDsuIvd0/Cwej3",
      "include_colab_link": true
    },
    "kernelspec": {
      "display_name": "Python 3",
      "name": "python3"
    },
    "language_info": {
      "name": "python"
    }
  },
  "nbformat": 4,
  "nbformat_minor": 0
}