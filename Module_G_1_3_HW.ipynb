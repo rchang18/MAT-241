{
  "nbformat": 4,
  "nbformat_minor": 0,
  "metadata": {
    "colab": {
      "provenance": [],
      "authorship_tag": "ABX9TyNuR/ZNramOChrl04jtWURp",
      "include_colab_link": true
    },
    "kernelspec": {
      "name": "python3",
      "display_name": "Python 3"
    },
    "language_info": {
      "name": "python"
    }
  },
  "cells": [
    {
      "cell_type": "markdown",
      "metadata": {
        "id": "view-in-github",
        "colab_type": "text"
      },
      "source": [
        "<a href=\"https://colab.research.google.com/github/rchang18/MAT-241/blob/main/Module_G_1_3_HW.ipynb\" target=\"_parent\"><img src=\"https://colab.research.google.com/assets/colab-badge.svg\" alt=\"Open In Colab\"/></a>"
      ]
    },
    {
      "cell_type": "markdown",
      "source": [
        "#21.1 Numerical Integration Problem Statement\n",
        "\n",
        "Assuming we want to approximate the integral of a function over some interval, we can use different shapes to approximate the area under the curve. This is done in subintervals and then summed together to find the total area."
      ],
      "metadata": {
        "id": "T17tgihQJ9nR"
      }
    },
    {
      "cell_type": "markdown",
      "source": [
        "#21.2 Riemanns Integral\n",
        "\n",
        "One such method for approximating this area is using rectangles for each subinterval. The width of the rectangle is Xi+1 - Xi. The height of the rectangle can either be the left or right end point of the subinterval. This gives an order of accuracy of 1. If we modify the Riemmanns integral a bit and instead use the mid point for the height of the rectangle we get an order of accuracy of 2.\n",
        "\n",
        "Let's look at an example to compare. Assuming the function is cos(x) on the interval [0 pi] the integral should be equal to 0."
      ],
      "metadata": {
        "id": "RxU3cR3XKdz1"
      }
    },
    {
      "cell_type": "code",
      "source": [
        "import numpy as np\n",
        "\n",
        "a = 0\n",
        "b = (np.pi)\n",
        "n = 12\n",
        "h = (b - a) / (n - 1)\n",
        "x = np.linspace(a, b, n)\n",
        "f = np.cos(x)\n",
        "\n",
        "I_riemannL = h * sum(f[:n-1])\n",
        "err_riemannL = 0 - I_riemannL\n",
        "\n",
        "I_riemannR = h * sum(f[1::])\n",
        "err_riemannR = 0 - I_riemannR\n",
        "\n",
        "I_mid = h * sum(np.cos((x[:n-1] \\\n",
        "        + x[1:])/2))\n",
        "err_mid = 0 - I_mid\n",
        "\n",
        "print(I_riemannL)\n",
        "print(err_riemannL)\n",
        "print()\n",
        "print(I_riemannR)\n",
        "print(err_riemannR)\n",
        "print()\n",
        "print(I_mid)\n",
        "print(err_mid)"
      ],
      "metadata": {
        "colab": {
          "base_uri": "https://localhost:8080/"
        },
        "id": "592xMSsPLTyZ",
        "outputId": "4f43a627-1a1b-42ed-9812-acd52ece2545"
      },
      "execution_count": 7,
      "outputs": [
        {
          "output_type": "stream",
          "name": "stdout",
          "text": [
            "0.28559933214452665\n",
            "-0.28559933214452665\n",
            "\n",
            "-0.2855993321445263\n",
            "0.2855993321445263\n",
            "\n",
            "1.5853947718221054e-16\n",
            "-1.5853947718221054e-16\n"
          ]
        }
      ]
    },
    {
      "cell_type": "markdown",
      "source": [
        "As we can see from the error, the midpoint Riemmans Integral is more accurate than left or right point, while left and right point have the same level of accuracy."
      ],
      "metadata": {
        "id": "LXYDep4cMexS"
      }
    },
    {
      "cell_type": "markdown",
      "source": [
        "#21.3 Trapezoid Rule\n",
        "\n",
        "While Riemmans Integral uses rectangles for the subinterval approximation, trapezoid rule uses trapezoids as the name suggests. The equation looks like:\n",
        "\n",
        "![image.png](data:image/png;base64,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)"
      ],
      "metadata": {
        "id": "CMpO44G6MlPm"
      }
    },
    {
      "cell_type": "markdown",
      "source": [
        "Where each subinterval approximation has an order of accuracy of 3 and the entire interval has an order of accuracy of 2.\n",
        "\n",
        "Let's look at an example and compare to Riemmans Integral. Assuming a function of cos(x) we get:"
      ],
      "metadata": {
        "id": "YvBTkwr7Nyu_"
      }
    },
    {
      "cell_type": "code",
      "source": [
        "import numpy as np\n",
        "\n",
        "a = 0\n",
        "b = np.pi\n",
        "n = 12\n",
        "h = (b - a) / (n - 1)\n",
        "x = np.linspace(a, b, n)\n",
        "f = np.cos(x)\n",
        "\n",
        "I_trap = (h/2)*(f[0] + \\\n",
        "          2 * sum(f[1:n-1]) + f[n-1])\n",
        "err_trap = 0 - I_trap\n",
        "\n",
        "print(I_trap)\n",
        "print(err_trap)"
      ],
      "metadata": {
        "colab": {
          "base_uri": "https://localhost:8080/"
        },
        "id": "ck4muhInOGVE",
        "outputId": "710ea131-2d9f-41c4-c13e-2bc1df13c0f3"
      },
      "execution_count": 8,
      "outputs": [
        {
          "output_type": "stream",
          "name": "stdout",
          "text": [
            "3.170789543644211e-16\n",
            "-3.170789543644211e-16\n"
          ]
        }
      ]
    },
    {
      "cell_type": "markdown",
      "source": [
        "Compared to Left or Right Riemmans, trapezoid is more accurate. When compared to midpoint though, their errors are both on the magnitude of e-16 which is expected considering they have the same order of accuracy."
      ],
      "metadata": {
        "id": "7dmCRbuaOPNT"
      }
    }
  ]
}